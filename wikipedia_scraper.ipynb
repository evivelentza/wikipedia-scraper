{
 "cells": [
  {
   "cell_type": "code",
   "execution_count": null,
   "id": "234f5b7a",
   "metadata": {
    "vscode": {
     "languageId": "plaintext"
    }
   },
   "outputs": [],
   "source": [
    "import requests\n",
    "import beautifulSoup\n",
    "\n",
    "\n",
    "url = https://country-leaders.onrender.com/status"
   ]
  }
 ],
 "metadata": {
  "language_info": {
   "name": "python"
  }
 },
 "nbformat": 4,
 "nbformat_minor": 5
}
